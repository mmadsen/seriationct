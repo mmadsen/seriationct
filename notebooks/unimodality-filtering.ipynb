{
 "cells": [
  {
   "cell_type": "code",
   "execution_count": 1,
   "metadata": {
    "collapsed": true
   },
   "outputs": [],
   "source": [
    "def read_unsampled_file(filename):\n",
    "    \"\"\"\n",
    "    Reads the unsampled export file, and produces a list of assemblages, classes, and a numpy array\n",
    "    of the class counts for further sampling.\n",
    "    :return: tuple with a list of assemblage names, class_names, and a Numpy array of trait counts\n",
    "    \"\"\"\n",
    "    with open(filename, 'r') as incsv:\n",
    "        csvread = csv.reader(incsv, delimiter=\"\\t\")\n",
    "\n",
    "        header_row = csvread.next()\n",
    "        class_names = header_row[1:]  # everything except the first item\n",
    "\n",
    "        row_list = []\n",
    "        assemblage_list = []\n",
    "        for row in csvread:\n",
    "            assemblage_list.append(row[0])\n",
    "            row_list.append(row[1:])\n",
    "\n",
    "        count_arr = np.array(row_list, dtype=np.float32)\n",
    "\n",
    "    return (assemblage_list, class_names, count_arr)"
   ]
  },
  {
   "cell_type": "code",
   "execution_count": 13,
   "metadata": {
    "collapsed": true
   },
   "outputs": [],
   "source": [
    "import numpy as np\n",
    "import csv"
   ]
  },
  {
   "cell_type": "code",
   "execution_count": 8,
   "metadata": {
    "collapsed": false
   },
   "outputs": [],
   "source": [
    "import os.path\n",
    "import sys\n",
    "sys.path.append(os.path.abspath( \"..\"))\n",
    "import tatome.dip as dip"
   ]
  },
  {
   "cell_type": "code",
   "execution_count": 19,
   "metadata": {
    "collapsed": true
   },
   "outputs": [],
   "source": [
    "def filter_cols_for_unimodality(count_arr, threshold):\n",
    "    \"\"\"\n",
    "    Given an array of counts, iterates over the array and tests each column for unimodality\n",
    "    using the Hartigans' dip test, as implemented by https://github.com/tatome/dip_test.  Values \n",
    "    over threshold are taken as evidence for multimodality.  Returns a list of columns which are\n",
    "    retained (as unimodal) and columns which should be filtered out (as multimodal).\n",
    "    \n",
    "    :param count_arr:\n",
    "    :return: tuple of lists:  rejected_columns, retained_columns\n",
    "    \"\"\"\n",
    "    rejected_columns = []\n",
    "    retained_columns = []\n",
    "    for i in range(0, count_arr.shape[1]):\n",
    "        col = count_arr[:,i]\n",
    "        print col\n",
    "        # element zero of the dip test tuple is the p-value (or \"dip test value\" as it's described in the docs)\n",
    "        dip_pvalue = dip.dip(idxs=col)[0]\n",
    "        if dip_pvalue > threshold:\n",
    "            rejected_columns.append(i)\n",
    "        else:\n",
    "            retained_columns.append(i)\n",
    "    \n",
    "    return (rejected_columns, retained_columns)"
   ]
  },
  {
   "cell_type": "code",
   "execution_count": 14,
   "metadata": {
    "collapsed": false
   },
   "outputs": [],
   "source": [
    "assem, classes, counts = read_unsampled_file(\"../testdata/testdata-10.txt\")"
   ]
  },
  {
   "cell_type": "code",
   "execution_count": 15,
   "metadata": {
    "collapsed": false
   },
   "outputs": [
    {
     "name": "stdout",
     "output_type": "stream",
     "text": [
      "[[  0.  40.  10.  50.]\n",
      " [ 20.   0.  30.  50.]\n",
      " [  0.  53.   2.  45.]\n",
      " [  0.  48.   4.  48.]\n",
      " [  0.  45.   5.  50.]\n",
      " [  0.  30.  20.  50.]\n",
      " [  0.   5.  25.  70.]\n",
      " [ 10.   0.  30.  60.]\n",
      " [ 30.   0.  40.  30.]\n",
      " [  5.   0.  28.  67.]]\n"
     ]
    }
   ],
   "source": [
    "print counts"
   ]
  },
  {
   "cell_type": "code",
   "execution_count": 20,
   "metadata": {
    "collapsed": false
   },
   "outputs": [
    {
     "name": "stdout",
     "output_type": "stream",
     "text": [
      "[  0.  20.   0.   0.   0.   0.   0.  10.  30.   5.]\n",
      "[ 40.   0.  53.  48.  45.  30.   5.   0.   0.   0.]\n",
      "[ 10.  30.   2.   4.   5.  20.  25.  30.  40.  28.]\n",
      "[ 50.  50.  45.  48.  50.  50.  70.  60.  30.  67.]\n"
     ]
    }
   ],
   "source": [
    "rej, ret = filter_cols_for_unimodality(counts, 0.10)"
   ]
  },
  {
   "cell_type": "code",
   "execution_count": 17,
   "metadata": {
    "collapsed": false
   },
   "outputs": [
    {
     "name": "stdout",
     "output_type": "stream",
     "text": [
      "[0, 1, 2, 3]\n"
     ]
    }
   ],
   "source": [
    "print rej"
   ]
  },
  {
   "cell_type": "code",
   "execution_count": 18,
   "metadata": {
    "collapsed": false
   },
   "outputs": [
    {
     "name": "stdout",
     "output_type": "stream",
     "text": [
      "[]\n"
     ]
    }
   ],
   "source": [
    "print ret"
   ]
  },
  {
   "cell_type": "code",
   "execution_count": null,
   "metadata": {
    "collapsed": true
   },
   "outputs": [],
   "source": [
    ""
   ]
  }
 ],
 "metadata": {
  "kernelspec": {
   "display_name": "Python 2",
   "language": "python",
   "name": "python2"
  },
  "language_info": {
   "codemirror_mode": {
    "name": "ipython",
    "version": 2.0
   },
   "file_extension": ".py",
   "mimetype": "text/x-python",
   "name": "python",
   "nbconvert_exporter": "python",
   "pygments_lexer": "ipython2",
   "version": "2.7.10"
  }
 },
 "nbformat": 4,
 "nbformat_minor": 0
}