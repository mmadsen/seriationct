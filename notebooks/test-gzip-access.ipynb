{
 "metadata": {
  "name": "",
  "signature": "sha256:af7e1cb264132eec36c09f3385022fe409739fc5902e0aac592a52074f2ec60c"
 },
 "nbformat": 3,
 "nbformat_minor": 0,
 "worksheets": [
  {
   "cells": [
    {
     "cell_type": "markdown",
     "metadata": {},
     "source": [
      "import zipfile"
     ]
    },
    {
     "cell_type": "code",
     "collapsed": false,
     "input": [
      "import zipfile"
     ],
     "language": "python",
     "metadata": {},
     "outputs": [],
     "prompt_number": 1
    },
    {
     "cell_type": "code",
     "collapsed": false,
     "input": [
      "zf = zipfile.ZipFile(\"../testdata/test6x6-0.5-griddistance.zip\", 'r')"
     ],
     "language": "python",
     "metadata": {},
     "outputs": [],
     "prompt_number": 2
    },
    {
     "cell_type": "code",
     "collapsed": false,
     "input": [
      "zf.namelist()"
     ],
     "language": "python",
     "metadata": {},
     "outputs": [
      {
       "metadata": {},
       "output_type": "pyout",
       "prompt_number": 3,
       "text": [
        "['test6x6-0.5-griddistance/',\n",
        " 'test6x6-0.5-griddistance/test6x6-0.5-griddistance-1.gml',\n",
        " 'test6x6-0.5-griddistance/test6x6-0.5-griddistance-2.gml',\n",
        " 'test6x6-0.5-griddistance/test6x6-0.5-griddistance-3.gml',\n",
        " 'test6x6-0.5-griddistance/test6x6-0.5-griddistance-4.gml',\n",
        " 'test6x6-0.5-griddistance/test6x6-0.5-griddistance-5.gml',\n",
        " 'test6x6-0.5-griddistance/test6x6-0.5-griddistance-6.gml']"
       ]
      }
     ],
     "prompt_number": 3
    },
    {
     "cell_type": "code",
     "collapsed": false,
     "input": [
      "files = zf.namelist()"
     ],
     "language": "python",
     "metadata": {},
     "outputs": [],
     "prompt_number": 4
    },
    {
     "cell_type": "code",
     "collapsed": false,
     "input": [
      "gmlfiles = [f for f in files if f.endswith(\".gml\")]"
     ],
     "language": "python",
     "metadata": {},
     "outputs": [],
     "prompt_number": 5
    },
    {
     "cell_type": "code",
     "collapsed": false,
     "input": [
      "import networkx as nx\n",
      "from time import sleep\n",
      "%matplotlib inline"
     ],
     "language": "python",
     "metadata": {},
     "outputs": [],
     "prompt_number": 14
    },
    {
     "cell_type": "code",
     "collapsed": false,
     "input": [
      "graph_list = []\n",
      "for file in [f for f in zf.namelist() if f.endswith(\".gml\")]:\n",
      "    gml = zf.read(file)\n",
      "    graph = nx.parse_gml(gml)\n",
      "    graph_list.append(graph)\n"
     ],
     "language": "python",
     "metadata": {},
     "outputs": [],
     "prompt_number": 18
    },
    {
     "cell_type": "code",
     "collapsed": false,
     "input": [
      "graph_list"
     ],
     "language": "python",
     "metadata": {},
     "outputs": [
      {
       "metadata": {},
       "output_type": "pyout",
       "prompt_number": 19,
       "text": [
        "[<networkx.classes.graph.Graph at 0x10a5d1450>,\n",
        " <networkx.classes.graph.Graph at 0x109e3a590>,\n",
        " <networkx.classes.graph.Graph at 0x10a6ae9d0>,\n",
        " <networkx.classes.graph.Graph at 0x10a534390>,\n",
        " <networkx.classes.graph.Graph at 0x10a68ad10>,\n",
        " <networkx.classes.graph.Graph at 0x109e3a0d0>]"
       ]
      }
     ],
     "prompt_number": 19
    },
    {
     "cell_type": "code",
     "collapsed": false,
     "input": [],
     "language": "python",
     "metadata": {},
     "outputs": []
    }
   ],
   "metadata": {}
  }
 ]
}