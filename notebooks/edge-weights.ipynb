{
 "metadata": {
  "name": "",
  "signature": "sha256:4be7590a014e5224e40171a11037a2edbaf05426390f141710beb2f4792449e4"
 },
 "nbformat": 3,
 "nbformat_minor": 0,
 "worksheets": [
  {
   "cells": [
    {
     "cell_type": "code",
     "collapsed": false,
     "input": [
      "import networkx as nx\n",
      "import numpy as np\n"
     ],
     "language": "python",
     "metadata": {},
     "outputs": [
      {
       "output_type": "stream",
       "stream": "stdout",
       "text": [
        "Couldn't import dot_parser, loading of dot files will not be possible.\n"
       ]
      }
     ],
     "prompt_number": 1
    },
    {
     "cell_type": "code",
     "collapsed": false,
     "input": [
      "g1 = nx.read_gml(\"/Users/mark/seriationct/testdata/test6x6-0.75-griddistance/test6x6-0.75-griddistance-4.gml\")"
     ],
     "language": "python",
     "metadata": {},
     "outputs": [],
     "prompt_number": 11
    },
    {
     "cell_type": "code",
     "collapsed": false,
     "input": [
      "g1m = nx.to_numpy_matrix(g1)"
     ],
     "language": "python",
     "metadata": {},
     "outputs": [],
     "prompt_number": 13
    },
    {
     "cell_type": "code",
     "collapsed": false,
     "input": [
      "g1m"
     ],
     "language": "python",
     "metadata": {},
     "outputs": [
      {
       "metadata": {},
       "output_type": "pyout",
       "prompt_number": 18,
       "text": [
        "matrix([[ 0.        ,  0.03916093,  0.07832185,  0.11748278,  0.14119673],\n",
        "        [ 0.03916093,  0.        ,  0.03916093,  0.12383772,  0.12383772],\n",
        "        [ 0.07832185,  0.03916093,  0.        ,  0.14119673,  0.11748278],\n",
        "        [ 0.11748278,  0.12383772,  0.14119673,  0.        ,  0.07832185],\n",
        "        [ 0.14119673,  0.12383772,  0.11748278,  0.07832185,  0.        ]])"
       ]
      }
     ],
     "prompt_number": 18
    },
    {
     "cell_type": "code",
     "collapsed": false,
     "input": [
      "np.sum(g1m, axis=0)"
     ],
     "language": "python",
     "metadata": {},
     "outputs": [
      {
       "metadata": {},
       "output_type": "pyout",
       "prompt_number": 21,
       "text": [
        "matrix([[ 0.37616228,  0.32599729,  0.37616228,  0.46083907,  0.46083907]])"
       ]
      }
     ],
     "prompt_number": 21
    },
    {
     "cell_type": "code",
     "collapsed": false,
     "input": [
      "np.shape(g1m\n",
      "         )\n"
     ],
     "language": "python",
     "metadata": {},
     "outputs": [
      {
       "metadata": {},
       "output_type": "pyout",
       "prompt_number": 23,
       "text": [
        "(5, 5)"
       ]
      }
     ],
     "prompt_number": 23
    },
    {
     "cell_type": "code",
     "collapsed": false,
     "input": [
      "g1e = np.eye(np.shape(g1m)[0])"
     ],
     "language": "python",
     "metadata": {},
     "outputs": [],
     "prompt_number": 26
    },
    {
     "cell_type": "code",
     "collapsed": false,
     "input": [
      "g1e + g1m"
     ],
     "language": "python",
     "metadata": {},
     "outputs": [
      {
       "metadata": {},
       "output_type": "pyout",
       "prompt_number": 28,
       "text": [
        "matrix([[ 1.        ,  0.03916093,  0.07832185,  0.11748278,  0.14119673],\n",
        "        [ 0.03916093,  1.        ,  0.03916093,  0.12383772,  0.12383772],\n",
        "        [ 0.07832185,  0.03916093,  1.        ,  0.14119673,  0.11748278],\n",
        "        [ 0.11748278,  0.12383772,  0.14119673,  1.        ,  0.07832185],\n",
        "        [ 0.14119673,  0.12383772,  0.11748278,  0.07832185,  1.        ]])"
       ]
      }
     ],
     "prompt_number": 28
    },
    {
     "cell_type": "code",
     "collapsed": false,
     "input": [
      "g1e + g1m - np.sum(g1m, axis=0)"
     ],
     "language": "python",
     "metadata": {},
     "outputs": [
      {
       "metadata": {},
       "output_type": "pyout",
       "prompt_number": 31,
       "text": [
        "matrix([[ 0.62383772, -0.28683637, -0.29784043, -0.3433563 , -0.31964235],\n",
        "        [-0.33700135,  0.67400271, -0.33700135, -0.33700135, -0.33700135],\n",
        "        [-0.29784043, -0.28683637,  0.62383772, -0.31964235, -0.3433563 ],\n",
        "        [-0.2586795 , -0.20215957, -0.23496555,  0.53916093, -0.38251722],\n",
        "        [-0.23496555, -0.20215957, -0.2586795 , -0.38251722,  0.53916093]])"
       ]
      }
     ],
     "prompt_number": 31
    },
    {
     "cell_type": "code",
     "collapsed": false,
     "input": [
      "np.sum(g1m)"
     ],
     "language": "python",
     "metadata": {},
     "outputs": [
      {
       "metadata": {},
       "output_type": "pyout",
       "prompt_number": 32,
       "text": [
        "2.0000000000032001"
       ]
      }
     ],
     "prompt_number": 32
    },
    {
     "cell_type": "code",
     "collapsed": false,
     "input": [
      "r = 0.2"
     ],
     "language": "python",
     "metadata": {},
     "outputs": [],
     "prompt_number": 33
    },
    {
     "cell_type": "code",
     "collapsed": false,
     "input": [
      "stayhome_r_diag = np.full((5,5), 1-r) * np.eye(5)"
     ],
     "language": "python",
     "metadata": {},
     "outputs": [],
     "prompt_number": 37
    },
    {
     "cell_type": "code",
     "collapsed": false,
     "input": [
      "g1m"
     ],
     "language": "python",
     "metadata": {},
     "outputs": [
      {
       "metadata": {},
       "output_type": "pyout",
       "prompt_number": 38,
       "text": [
        "matrix([[ 0.        ,  0.03916093,  0.07832185,  0.11748278,  0.14119673],\n",
        "        [ 0.03916093,  0.        ,  0.03916093,  0.12383772,  0.12383772],\n",
        "        [ 0.07832185,  0.03916093,  0.        ,  0.14119673,  0.11748278],\n",
        "        [ 0.11748278,  0.12383772,  0.14119673,  0.        ,  0.07832185],\n",
        "        [ 0.14119673,  0.12383772,  0.11748278,  0.07832185,  0.        ]])"
       ]
      }
     ],
     "prompt_number": 38
    },
    {
     "cell_type": "code",
     "collapsed": false,
     "input": [
      "0.8 * g1m"
     ],
     "language": "python",
     "metadata": {},
     "outputs": [
      {
       "metadata": {},
       "output_type": "pyout",
       "prompt_number": 40,
       "text": [
        "matrix([[ 0.        ,  0.03132874,  0.06265748,  0.09398622,  0.11295738],\n",
        "        [ 0.03132874,  0.        ,  0.03132874,  0.09907018,  0.09907018],\n",
        "        [ 0.06265748,  0.03132874,  0.        ,  0.11295738,  0.09398622],\n",
        "        [ 0.09398622,  0.09907018,  0.11295738,  0.        ,  0.06265748],\n",
        "        [ 0.11295738,  0.09907018,  0.09398622,  0.06265748,  0.        ]])"
       ]
      }
     ],
     "prompt_number": 40
    },
    {
     "cell_type": "code",
     "collapsed": false,
     "input": [
      "final = 0.8 * g1m + stayhome_r_diag"
     ],
     "language": "python",
     "metadata": {},
     "outputs": [],
     "prompt_number": 42
    },
    {
     "cell_type": "code",
     "collapsed": false,
     "input": [
      "final"
     ],
     "language": "python",
     "metadata": {},
     "outputs": [
      {
       "metadata": {},
       "output_type": "pyout",
       "prompt_number": 43,
       "text": [
        "matrix([[ 0.8       ,  0.03132874,  0.06265748,  0.09398622,  0.11295738],\n",
        "        [ 0.03132874,  0.8       ,  0.03132874,  0.09907018,  0.09907018],\n",
        "        [ 0.06265748,  0.03132874,  0.8       ,  0.11295738,  0.09398622],\n",
        "        [ 0.09398622,  0.09907018,  0.11295738,  0.8       ,  0.06265748],\n",
        "        [ 0.11295738,  0.09907018,  0.09398622,  0.06265748,  0.8       ]])"
       ]
      }
     ],
     "prompt_number": 43
    },
    {
     "cell_type": "code",
     "collapsed": false,
     "input": [
      "np.sum(final, axis=0)"
     ],
     "language": "python",
     "metadata": {},
     "outputs": [
      {
       "metadata": {},
       "output_type": "pyout",
       "prompt_number": 44,
       "text": [
        "matrix([[ 1.10092982,  1.06079783,  1.10092982,  1.16867126,  1.16867126]])"
       ]
      }
     ],
     "prompt_number": 44
    },
    {
     "cell_type": "code",
     "collapsed": false,
     "input": [
      "g1m * 0.8\n"
     ],
     "language": "python",
     "metadata": {},
     "outputs": [
      {
       "metadata": {},
       "output_type": "pyout",
       "prompt_number": 45,
       "text": [
        "matrix([[ 0.        ,  0.03132874,  0.06265748,  0.09398622,  0.11295738],\n",
        "        [ 0.03132874,  0.        ,  0.03132874,  0.09907018,  0.09907018],\n",
        "        [ 0.06265748,  0.03132874,  0.        ,  0.11295738,  0.09398622],\n",
        "        [ 0.09398622,  0.09907018,  0.11295738,  0.        ,  0.06265748],\n",
        "        [ 0.11295738,  0.09907018,  0.09398622,  0.06265748,  0.        ]])"
       ]
      }
     ],
     "prompt_number": 45
    },
    {
     "cell_type": "code",
     "collapsed": false,
     "input": [
      "np.sum(g1m * 0.8, axis = 0)"
     ],
     "language": "python",
     "metadata": {},
     "outputs": [
      {
       "metadata": {},
       "output_type": "pyout",
       "prompt_number": 48,
       "text": [
        "matrix([[ 0.30092982,  0.26079783,  0.30092982,  0.36867126,  0.36867126]])"
       ]
      }
     ],
     "prompt_number": 48
    },
    {
     "cell_type": "code",
     "collapsed": false,
     "input": [
      "0.8 - np.sum(g1m * 0.8, axis = 0)\n"
     ],
     "language": "python",
     "metadata": {},
     "outputs": [
      {
       "metadata": {},
       "output_type": "pyout",
       "prompt_number": 49,
       "text": [
        "matrix([[ 0.49907018,  0.53920217,  0.49907018,  0.43132874,  0.43132874]])"
       ]
      }
     ],
     "prompt_number": 49
    },
    {
     "cell_type": "code",
     "collapsed": false,
     "input": [
      "0.8 - np.sum(g1m, axis=0)"
     ],
     "language": "python",
     "metadata": {},
     "outputs": [
      {
       "metadata": {},
       "output_type": "pyout",
       "prompt_number": 50,
       "text": [
        "matrix([[ 0.42383772,  0.47400271,  0.42383772,  0.33916093,  0.33916093]])"
       ]
      }
     ],
     "prompt_number": 50
    },
    {
     "cell_type": "code",
     "collapsed": false,
     "input": [
      "1-r / g1m"
     ],
     "language": "python",
     "metadata": {},
     "outputs": [
      {
       "output_type": "stream",
       "stream": "stderr",
       "text": [
        "-c:1: RuntimeWarning: divide by zero encountered in divide\n"
       ]
      },
      {
       "metadata": {},
       "output_type": "pyout",
       "prompt_number": 51,
       "text": [
        "matrix([[       -inf, -4.10713157, -1.55356579, -0.70237719, -0.41646344],\n",
        "        [-4.10713157,        -inf, -4.10713157, -0.61501681, -0.61501681],\n",
        "        [-1.55356579, -4.10713157,        -inf, -0.41646344, -0.70237719],\n",
        "        [-0.70237719, -0.61501681, -0.41646344,        -inf, -1.55356579],\n",
        "        [-0.41646344, -0.61501681, -0.70237719, -1.55356579,        -inf]])"
       ]
      }
     ],
     "prompt_number": 51
    },
    {
     "cell_type": "code",
     "collapsed": false,
     "input": [
      "1 -r  * (stayhome_r_diag + g1m)"
     ],
     "language": "python",
     "metadata": {},
     "outputs": [
      {
       "metadata": {},
       "output_type": "pyout",
       "prompt_number": 53,
       "text": [
        "matrix([[ 0.84      ,  0.99216781,  0.98433563,  0.97650344,  0.97176065],\n",
        "        [ 0.99216781,  0.84      ,  0.99216781,  0.97523246,  0.97523246],\n",
        "        [ 0.98433563,  0.99216781,  0.84      ,  0.97176065,  0.97650344],\n",
        "        [ 0.97650344,  0.97523246,  0.97176065,  0.84      ,  0.98433563],\n",
        "        [ 0.97176065,  0.97523246,  0.97650344,  0.98433563,  0.84      ]])"
       ]
      }
     ],
     "prompt_number": 53
    },
    {
     "cell_type": "code",
     "collapsed": false,
     "input": [
      "g1m"
     ],
     "language": "python",
     "metadata": {},
     "outputs": [
      {
       "metadata": {},
       "output_type": "pyout",
       "prompt_number": 54,
       "text": [
        "matrix([[ 0.        ,  0.03916093,  0.07832185,  0.11748278,  0.14119673],\n",
        "        [ 0.03916093,  0.        ,  0.03916093,  0.12383772,  0.12383772],\n",
        "        [ 0.07832185,  0.03916093,  0.        ,  0.14119673,  0.11748278],\n",
        "        [ 0.11748278,  0.12383772,  0.14119673,  0.        ,  0.07832185],\n",
        "        [ 0.14119673,  0.12383772,  0.11748278,  0.07832185,  0.        ]])"
       ]
      }
     ],
     "prompt_number": 54
    },
    {
     "cell_type": "code",
     "collapsed": false,
     "input": [
      "stayhome_r_diag\n"
     ],
     "language": "python",
     "metadata": {},
     "outputs": [
      {
       "metadata": {},
       "output_type": "pyout",
       "prompt_number": 55,
       "text": [
        "array([[ 0.8,  0. ,  0. ,  0. ,  0. ],\n",
        "       [ 0. ,  0.8,  0. ,  0. ,  0. ],\n",
        "       [ 0. ,  0. ,  0.8,  0. ,  0. ],\n",
        "       [ 0. ,  0. ,  0. ,  0.8,  0. ],\n",
        "       [ 0. ,  0. ,  0. ,  0. ,  0.8]])"
       ]
      }
     ],
     "prompt_number": 55
    },
    {
     "cell_type": "code",
     "collapsed": false,
     "input": [
      "stayhome_r_diag + g1m"
     ],
     "language": "python",
     "metadata": {},
     "outputs": [
      {
       "metadata": {},
       "output_type": "pyout",
       "prompt_number": 56,
       "text": [
        "matrix([[ 0.8       ,  0.03916093,  0.07832185,  0.11748278,  0.14119673],\n",
        "        [ 0.03916093,  0.8       ,  0.03916093,  0.12383772,  0.12383772],\n",
        "        [ 0.07832185,  0.03916093,  0.8       ,  0.14119673,  0.11748278],\n",
        "        [ 0.11748278,  0.12383772,  0.14119673,  0.8       ,  0.07832185],\n",
        "        [ 0.14119673,  0.12383772,  0.11748278,  0.07832185,  0.8       ]])"
       ]
      }
     ],
     "prompt_number": 56
    },
    {
     "cell_type": "code",
     "collapsed": false,
     "input": [
      "1-r * g1m + stayhome_r_diag"
     ],
     "language": "python",
     "metadata": {},
     "outputs": [
      {
       "metadata": {},
       "output_type": "pyout",
       "prompt_number": 57,
       "text": [
        "matrix([[ 1.8       ,  0.99216781,  0.98433563,  0.97650344,  0.97176065],\n",
        "        [ 0.99216781,  1.8       ,  0.99216781,  0.97523246,  0.97523246],\n",
        "        [ 0.98433563,  0.99216781,  1.8       ,  0.97176065,  0.97650344],\n",
        "        [ 0.97650344,  0.97523246,  0.97176065,  1.8       ,  0.98433563],\n",
        "        [ 0.97176065,  0.97523246,  0.97650344,  0.98433563,  1.8       ]])"
       ]
      }
     ],
     "prompt_number": 57
    },
    {
     "cell_type": "code",
     "collapsed": false,
     "input": [
      "1-r * g1m"
     ],
     "language": "python",
     "metadata": {},
     "outputs": [
      {
       "metadata": {},
       "output_type": "pyout",
       "prompt_number": 58,
       "text": [
        "matrix([[ 1.        ,  0.99216781,  0.98433563,  0.97650344,  0.97176065],\n",
        "        [ 0.99216781,  1.        ,  0.99216781,  0.97523246,  0.97523246],\n",
        "        [ 0.98433563,  0.99216781,  1.        ,  0.97176065,  0.97650344],\n",
        "        [ 0.97650344,  0.97523246,  0.97176065,  1.        ,  0.98433563],\n",
        "        [ 0.97176065,  0.97523246,  0.97650344,  0.98433563,  1.        ]])"
       ]
      }
     ],
     "prompt_number": 58
    },
    {
     "cell_type": "code",
     "collapsed": false,
     "input": [
      "t = g1e + g1m"
     ],
     "language": "python",
     "metadata": {},
     "outputs": [],
     "prompt_number": 62
    },
    {
     "cell_type": "code",
     "collapsed": false,
     "input": [
      "t"
     ],
     "language": "python",
     "metadata": {},
     "outputs": [
      {
       "metadata": {},
       "output_type": "pyout",
       "prompt_number": 63,
       "text": [
        "matrix([[ 1.        ,  0.03916093,  0.07832185,  0.11748278,  0.14119673],\n",
        "        [ 0.03916093,  1.        ,  0.03916093,  0.12383772,  0.12383772],\n",
        "        [ 0.07832185,  0.03916093,  1.        ,  0.14119673,  0.11748278],\n",
        "        [ 0.11748278,  0.12383772,  0.14119673,  1.        ,  0.07832185],\n",
        "        [ 0.14119673,  0.12383772,  0.11748278,  0.07832185,  1.        ]])"
       ]
      }
     ],
     "prompt_number": 63
    },
    {
     "cell_type": "code",
     "collapsed": false,
     "input": [
      "np.sum(t, axis=0)"
     ],
     "language": "python",
     "metadata": {},
     "outputs": [
      {
       "metadata": {},
       "output_type": "pyout",
       "prompt_number": 64,
       "text": [
        "matrix([[ 1.37616228,  1.32599729,  1.37616228,  1.46083907,  1.46083907]])"
       ]
      }
     ],
     "prompt_number": 64
    },
    {
     "cell_type": "code",
     "collapsed": false,
     "input": [
      "t2 = t * 0.8"
     ],
     "language": "python",
     "metadata": {},
     "outputs": [],
     "prompt_number": 66
    },
    {
     "cell_type": "code",
     "collapsed": false,
     "input": [
      "np.sum(t2, axis=0)"
     ],
     "language": "python",
     "metadata": {},
     "outputs": [
      {
       "metadata": {},
       "output_type": "pyout",
       "prompt_number": 67,
       "text": [
        "matrix([[ 1.10092982,  1.06079783,  1.10092982,  1.16867126,  1.16867126]])"
       ]
      }
     ],
     "prompt_number": 67
    },
    {
     "cell_type": "code",
     "collapsed": false,
     "input": [
      "tt = g1m / np.sum(g1m, axis=0)"
     ],
     "language": "python",
     "metadata": {},
     "outputs": [],
     "prompt_number": 69
    },
    {
     "cell_type": "code",
     "collapsed": false,
     "input": [
      "np.sum(tt, axis=0)"
     ],
     "language": "python",
     "metadata": {},
     "outputs": [
      {
       "metadata": {},
       "output_type": "pyout",
       "prompt_number": 70,
       "text": [
        "matrix([[ 1.,  1.,  1.,  1.,  1.]])"
       ]
      }
     ],
     "prompt_number": 70
    },
    {
     "cell_type": "code",
     "collapsed": false,
     "input": [
      "t = g1m + g1e"
     ],
     "language": "python",
     "metadata": {},
     "outputs": [],
     "prompt_number": 75
    },
    {
     "cell_type": "code",
     "collapsed": false,
     "input": [
      "tt = t / np.sum(t, axis=0)"
     ],
     "language": "python",
     "metadata": {},
     "outputs": [],
     "prompt_number": 76
    },
    {
     "cell_type": "code",
     "collapsed": false,
     "input": [
      "tt"
     ],
     "language": "python",
     "metadata": {},
     "outputs": [
      {
       "metadata": {},
       "output_type": "pyout",
       "prompt_number": 77,
       "text": [
        "matrix([[ 0.72665849,  0.02953319,  0.05691324,  0.08042144,  0.09665454],\n",
        "        [ 0.02845662,  0.75414935,  0.02845662,  0.08477164,  0.08477164],\n",
        "        [ 0.05691324,  0.02953319,  0.72665849,  0.09665454,  0.08042144],\n",
        "        [ 0.08536986,  0.09339214,  0.1026018 ,  0.6845381 ,  0.05361429],\n",
        "        [ 0.1026018 ,  0.09339214,  0.08536986,  0.05361429,  0.6845381 ]])"
       ]
      }
     ],
     "prompt_number": 77
    },
    {
     "cell_type": "code",
     "collapsed": false,
     "input": [
      "g6 = nx.read_gml(\"../testdata/test6x6-0.75-griddistance/test6x6-0.75-griddistance-6.gml\")"
     ],
     "language": "python",
     "metadata": {},
     "outputs": [],
     "prompt_number": 78
    },
    {
     "cell_type": "code",
     "collapsed": false,
     "input": [
      "g6m = nx.to_numpy_matrix(g6)"
     ],
     "language": "python",
     "metadata": {},
     "outputs": [],
     "prompt_number": 79
    },
    {
     "cell_type": "code",
     "collapsed": false,
     "input": [
      "g6m"
     ],
     "language": "python",
     "metadata": {},
     "outputs": [
      {
       "metadata": {},
       "output_type": "pyout",
       "prompt_number": 80,
       "text": [
        "matrix([[ 0.        ,  0.03495002,  0.14828039,  0.07815063,  0.10485007],\n",
        "        [ 0.03495002,  0.        ,  0.1260141 ,  0.09885359,  0.11052168],\n",
        "        [ 0.14828039,  0.1260141 ,  0.        ,  0.14410264,  0.10485007],\n",
        "        [ 0.07815063,  0.09885359,  0.14410264,  0.        ,  0.0494268 ],\n",
        "        [ 0.10485007,  0.11052168,  0.10485007,  0.0494268 ,  0.        ]])"
       ]
      }
     ],
     "prompt_number": 80
    },
    {
     "cell_type": "code",
     "collapsed": false,
     "input": [
      "g6e = np.eye(np.shape(g6)[0])"
     ],
     "language": "python",
     "metadata": {},
     "outputs": [],
     "prompt_number": 81
    },
    {
     "cell_type": "code",
     "collapsed": false,
     "input": [
      "g6e"
     ],
     "language": "python",
     "metadata": {},
     "outputs": [
      {
       "metadata": {},
       "output_type": "pyout",
       "prompt_number": 82,
       "text": [
        "array([[ 1.,  0.,  0.,  0.,  0.],\n",
        "       [ 0.,  1.,  0.,  0.,  0.],\n",
        "       [ 0.,  0.,  1.,  0.,  0.],\n",
        "       [ 0.,  0.,  0.,  1.,  0.],\n",
        "       [ 0.,  0.,  0.,  0.,  1.]])"
       ]
      }
     ],
     "prompt_number": 82
    },
    {
     "cell_type": "code",
     "collapsed": false,
     "input": [
      "migration = (g6m + g1e) / np.sum((g6m + g1e), axis=0)"
     ],
     "language": "python",
     "metadata": {},
     "outputs": [],
     "prompt_number": 83
    },
    {
     "cell_type": "code",
     "collapsed": false,
     "input": [
      "migration"
     ],
     "language": "python",
     "metadata": {},
     "outputs": [
      {
       "metadata": {},
       "output_type": "pyout",
       "prompt_number": 84,
       "text": [
        "matrix([[ 0.73194058,  0.02550465,  0.09734493,  0.05702204,  0.07655253],\n",
        "        [ 0.02558134,  0.72974622,  0.08272728,  0.07212781,  0.08069345],\n",
        "        [ 0.10853244,  0.09195832,  0.65649226,  0.10514345,  0.07655253],\n",
        "        [ 0.05720162,  0.07213804,  0.09460227,  0.72964279,  0.03608721],\n",
        "        [ 0.07674402,  0.08065278,  0.06883326,  0.03606391,  0.73011427]])"
       ]
      }
     ],
     "prompt_number": 84
    },
    {
     "cell_type": "code",
     "collapsed": false,
     "input": [
      "r = 0.3\n"
     ],
     "language": "python",
     "metadata": {},
     "outputs": [],
     "prompt_number": 91
    },
    {
     "cell_type": "code",
     "collapsed": false,
     "input": [
      "r * g6m"
     ],
     "language": "python",
     "metadata": {},
     "outputs": [
      {
       "metadata": {},
       "output_type": "pyout",
       "prompt_number": 92,
       "text": [
        "matrix([[ 0.        ,  0.01048501,  0.04448412,  0.02344519,  0.03145502],\n",
        "        [ 0.01048501,  0.        ,  0.03780423,  0.02965608,  0.0331565 ],\n",
        "        [ 0.04448412,  0.03780423,  0.        ,  0.04323079,  0.03145502],\n",
        "        [ 0.02344519,  0.02965608,  0.04323079,  0.        ,  0.01482804],\n",
        "        [ 0.03145502,  0.0331565 ,  0.03145502,  0.01482804,  0.        ]])"
       ]
      }
     ],
     "prompt_number": 92
    },
    {
     "cell_type": "code",
     "collapsed": false,
     "input": [
      "g6m_scaled = r * g6m"
     ],
     "language": "python",
     "metadata": {},
     "outputs": [],
     "prompt_number": 93
    },
    {
     "cell_type": "code",
     "collapsed": false,
     "input": [
      "migration = (g6m_scaled + g1e) / np.sum((g6m_scaled + g1e), axis=0)"
     ],
     "language": "python",
     "metadata": {},
     "outputs": [],
     "prompt_number": 94
    },
    {
     "cell_type": "code",
     "collapsed": false,
     "input": [
      "migration"
     ],
     "language": "python",
     "metadata": {},
     "outputs": [
      {
       "metadata": {},
       "output_type": "pyout",
       "prompt_number": 95,
       "text": [
        "matrix([[ 0.90100696,  0.00943659,  0.03844867,  0.02109974,  0.02831504],\n",
        "        [ 0.00944706,  0.90000753,  0.03267509,  0.02668929,  0.02984667],\n",
        "        [ 0.0400805 ,  0.03402409,  0.86432354,  0.038906  ,  0.02831504],\n",
        "        [ 0.02112428,  0.02669069,  0.03736539,  0.89996032,  0.01334784],\n",
        "        [ 0.02834119,  0.0298411 ,  0.02718732,  0.01334465,  0.90017542]])"
       ]
      }
     ],
     "prompt_number": 95
    },
    {
     "cell_type": "code",
     "collapsed": false,
     "input": [
      "np.sum(migration, axis=0)"
     ],
     "language": "python",
     "metadata": {},
     "outputs": [
      {
       "metadata": {},
       "output_type": "pyout",
       "prompt_number": 96,
       "text": [
        "matrix([[ 1.,  1.,  1.,  1.,  1.]])"
       ]
      }
     ],
     "prompt_number": 96
    },
    {
     "cell_type": "code",
     "collapsed": false,
     "input": [
      "import simuPOP as sim\n",
      "import simuPOP.demography as demo\n"
     ],
     "language": "python",
     "metadata": {},
     "outputs": [],
     "prompt_number": 98
    },
    {
     "cell_type": "code",
     "collapsed": false,
     "input": [
      "demo.migrIslandRates(0.1, 5)"
     ],
     "language": "python",
     "metadata": {},
     "outputs": [
      {
       "metadata": {},
       "output_type": "pyout",
       "prompt_number": 99,
       "text": [
        "[[0.9, 0.025, 0.025, 0.025, 0.025],\n",
        " [0.025, 0.9, 0.025, 0.025, 0.025],\n",
        " [0.025, 0.025, 0.9, 0.025, 0.025],\n",
        " [0.025, 0.025, 0.025, 0.9, 0.025],\n",
        " [0.025, 0.025, 0.025, 0.025, 0.9]]"
       ]
      }
     ],
     "prompt_number": 99
    },
    {
     "cell_type": "code",
     "collapsed": false,
     "input": [],
     "language": "python",
     "metadata": {},
     "outputs": []
    }
   ],
   "metadata": {}
  }
 ]
}