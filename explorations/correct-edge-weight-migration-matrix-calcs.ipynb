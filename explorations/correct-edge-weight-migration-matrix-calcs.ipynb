{
 "metadata": {
  "name": "",
  "signature": "sha256:232321a7b69aca592a2907a30bd8d1b14b0bf4824b9a618bc434ba0faee81822"
 },
 "nbformat": 3,
 "nbformat_minor": 0,
 "worksheets": [
  {
   "cells": [
    {
     "cell_type": "code",
     "collapsed": false,
     "input": [
      "import networkx as nx\n",
      "import numpy as np"
     ],
     "language": "python",
     "metadata": {},
     "outputs": [
      {
       "output_type": "stream",
       "stream": "stdout",
       "text": [
        "Couldn't import dot_parser, loading of dot files will not be possible.\n"
       ]
      }
     ],
     "prompt_number": 1
    },
    {
     "cell_type": "code",
     "collapsed": false,
     "input": [
      "g1 = nx.read_gml(\"/Users/mark/seriationct/testdata/test6x6-0.75-griddistance/test6x6-0.75-griddistance-4.gml\")"
     ],
     "language": "python",
     "metadata": {},
     "outputs": [],
     "prompt_number": 2
    },
    {
     "cell_type": "code",
     "collapsed": false,
     "input": [
      "g1m = nx.to_numpy_matrix(g1)"
     ],
     "language": "python",
     "metadata": {},
     "outputs": [],
     "prompt_number": 3
    },
    {
     "cell_type": "code",
     "collapsed": false,
     "input": [
      "g1m"
     ],
     "language": "python",
     "metadata": {},
     "outputs": [
      {
       "metadata": {},
       "output_type": "pyout",
       "prompt_number": 4,
       "text": [
        "matrix([[ 0.        ,  0.4472136 ,  1.        ,  0.35355339,  0.33333333],\n",
        "        [ 0.4472136 ,  0.        ,  0.35355339,  1.        ,  0.35355339],\n",
        "        [ 1.        ,  0.35355339,  0.        ,  0.2773501 ,  0.25      ],\n",
        "        [ 0.35355339,  1.        ,  0.2773501 ,  0.        ,  0.4472136 ],\n",
        "        [ 0.33333333,  0.35355339,  0.25      ,  0.4472136 ,  0.        ]])"
       ]
      }
     ],
     "prompt_number": 4
    },
    {
     "cell_type": "code",
     "collapsed": false,
     "input": [
      "np.triu(g1m)"
     ],
     "language": "python",
     "metadata": {},
     "outputs": [
      {
       "metadata": {},
       "output_type": "pyout",
       "prompt_number": 5,
       "text": [
        "array([[ 0.        ,  0.4472136 ,  1.        ,  0.35355339,  0.33333333],\n",
        "       [ 0.        ,  0.        ,  0.35355339,  1.        ,  0.35355339],\n",
        "       [ 0.        ,  0.        ,  0.        ,  0.2773501 ,  0.25      ],\n",
        "       [ 0.        ,  0.        ,  0.        ,  0.        ,  0.4472136 ],\n",
        "       [ 0.        ,  0.        ,  0.        ,  0.        ,  0.        ]])"
       ]
      }
     ],
     "prompt_number": 5
    },
    {
     "cell_type": "code",
     "collapsed": false,
     "input": [
      "np.sum(np.triu(g1m))"
     ],
     "language": "python",
     "metadata": {},
     "outputs": [
      {
       "metadata": {},
       "output_type": "pyout",
       "prompt_number": 6,
       "text": [
        "4.8157707942250001"
       ]
      }
     ],
     "prompt_number": 6
    },
    {
     "cell_type": "code",
     "collapsed": false,
     "input": [
      "np.sum(g1m, axis = 0)"
     ],
     "language": "python",
     "metadata": {},
     "outputs": [
      {
       "metadata": {},
       "output_type": "pyout",
       "prompt_number": 7,
       "text": [
        "matrix([[ 2.13410032,  2.15432038,  1.88090349,  2.07811708,  1.38410032]])"
       ]
      }
     ],
     "prompt_number": 7
    },
    {
     "cell_type": "code",
     "collapsed": false,
     "input": [
      "gt = np.triu(g1m)"
     ],
     "language": "python",
     "metadata": {},
     "outputs": [],
     "prompt_number": 8
    },
    {
     "cell_type": "code",
     "collapsed": false,
     "input": [
      "gt"
     ],
     "language": "python",
     "metadata": {},
     "outputs": [
      {
       "metadata": {},
       "output_type": "pyout",
       "prompt_number": 9,
       "text": [
        "array([[ 0.        ,  0.4472136 ,  1.        ,  0.35355339,  0.33333333],\n",
        "       [ 0.        ,  0.        ,  0.35355339,  1.        ,  0.35355339],\n",
        "       [ 0.        ,  0.        ,  0.        ,  0.2773501 ,  0.25      ],\n",
        "       [ 0.        ,  0.        ,  0.        ,  0.        ,  0.4472136 ],\n",
        "       [ 0.        ,  0.        ,  0.        ,  0.        ,  0.        ]])"
       ]
      }
     ],
     "prompt_number": 9
    },
    {
     "cell_type": "code",
     "collapsed": false,
     "input": [
      "np.sum(gt, axis = 0)"
     ],
     "language": "python",
     "metadata": {},
     "outputs": [
      {
       "metadata": {},
       "output_type": "pyout",
       "prompt_number": 10,
       "text": [
        "array([ 0.        ,  0.4472136 ,  1.35355339,  1.63090349,  1.38410032])"
       ]
      }
     ],
     "prompt_number": 10
    },
    {
     "cell_type": "code",
     "collapsed": false,
     "input": [
      "r = 0.3"
     ],
     "language": "python",
     "metadata": {},
     "outputs": [],
     "prompt_number": 11
    },
    {
     "cell_type": "code",
     "collapsed": false,
     "input": [
      "gt * 1/r"
     ],
     "language": "python",
     "metadata": {},
     "outputs": [
      {
       "metadata": {},
       "output_type": "pyout",
       "prompt_number": 12,
       "text": [
        "array([[ 0.        ,  1.49071199,  3.33333333,  1.1785113 ,  1.11111111],\n",
        "       [ 0.        ,  0.        ,  1.1785113 ,  3.33333333,  1.1785113 ],\n",
        "       [ 0.        ,  0.        ,  0.        ,  0.92450033,  0.83333333],\n",
        "       [ 0.        ,  0.        ,  0.        ,  0.        ,  1.49071199],\n",
        "       [ 0.        ,  0.        ,  0.        ,  0.        ,  0.        ]])"
       ]
      }
     ],
     "prompt_number": 12
    },
    {
     "cell_type": "code",
     "collapsed": false,
     "input": [
      "ctot = np.sum(gt, axis = 0)"
     ],
     "language": "python",
     "metadata": {},
     "outputs": [],
     "prompt_number": 13
    },
    {
     "cell_type": "code",
     "collapsed": false,
     "input": [
      "gt * 1/ ctot"
     ],
     "language": "python",
     "metadata": {},
     "outputs": [
      {
       "output_type": "stream",
       "stream": "stderr",
       "text": [
        "-c:1: RuntimeWarning: invalid value encountered in divide\n"
       ]
      },
      {
       "metadata": {},
       "output_type": "pyout",
       "prompt_number": 14,
       "text": [
        "array([[        nan,  1.        ,  0.73879613,  0.21678376,  0.24083033],\n",
        "       [        nan,  0.        ,  0.26120387,  0.61315707,  0.25543914],\n",
        "       [        nan,  0.        ,  0.        ,  0.17005917,  0.18062275],\n",
        "       [        nan,  0.        ,  0.        ,  0.        ,  0.32310779],\n",
        "       [        nan,  0.        ,  0.        ,  0.        ,  0.        ]])"
       ]
      }
     ],
     "prompt_number": 14
    },
    {
     "cell_type": "code",
     "collapsed": false,
     "input": [
      "gt / ctot"
     ],
     "language": "python",
     "metadata": {},
     "outputs": [
      {
       "metadata": {},
       "output_type": "pyout",
       "prompt_number": 15,
       "text": [
        "array([[        nan,  1.        ,  0.73879613,  0.21678376,  0.24083033],\n",
        "       [        nan,  0.        ,  0.26120387,  0.61315707,  0.25543914],\n",
        "       [        nan,  0.        ,  0.        ,  0.17005917,  0.18062275],\n",
        "       [        nan,  0.        ,  0.        ,  0.        ,  0.32310779],\n",
        "       [        nan,  0.        ,  0.        ,  0.        ,  0.        ]])"
       ]
      }
     ],
     "prompt_number": 15
    },
    {
     "cell_type": "code",
     "collapsed": false,
     "input": [
      "int = (gt / ctot) * r"
     ],
     "language": "python",
     "metadata": {},
     "outputs": [],
     "prompt_number": 17
    },
    {
     "cell_type": "code",
     "collapsed": false,
     "input": [
      "int"
     ],
     "language": "python",
     "metadata": {},
     "outputs": [
      {
       "metadata": {},
       "output_type": "pyout",
       "prompt_number": 18,
       "text": [
        "array([[        nan,  0.3       ,  0.22163884,  0.06503513,  0.0722491 ],\n",
        "       [        nan,  0.        ,  0.07836116,  0.18394712,  0.07663174],\n",
        "       [        nan,  0.        ,  0.        ,  0.05101775,  0.05418682],\n",
        "       [        nan,  0.        ,  0.        ,  0.        ,  0.09693234],\n",
        "       [        nan,  0.        ,  0.        ,  0.        ,  0.        ]])"
       ]
      }
     ],
     "prompt_number": 18
    },
    {
     "cell_type": "code",
     "collapsed": false,
     "input": [
      "int.T"
     ],
     "language": "python",
     "metadata": {},
     "outputs": [
      {
       "metadata": {},
       "output_type": "pyout",
       "prompt_number": 19,
       "text": [
        "array([[        nan,         nan,         nan,         nan,         nan],\n",
        "       [ 0.3       ,  0.        ,  0.        ,  0.        ,  0.        ],\n",
        "       [ 0.22163884,  0.07836116,  0.        ,  0.        ,  0.        ],\n",
        "       [ 0.06503513,  0.18394712,  0.05101775,  0.        ,  0.        ],\n",
        "       [ 0.0722491 ,  0.07663174,  0.05418682,  0.09693234,  0.        ]])"
       ]
      }
     ],
     "prompt_number": 19
    },
    {
     "cell_type": "code",
     "collapsed": false,
     "input": [
      "int + int.T"
     ],
     "language": "python",
     "metadata": {},
     "outputs": [
      {
       "metadata": {},
       "output_type": "pyout",
       "prompt_number": 20,
       "text": [
        "array([[        nan,         nan,         nan,         nan,         nan],\n",
        "       [        nan,  0.        ,  0.07836116,  0.18394712,  0.07663174],\n",
        "       [        nan,  0.07836116,  0.        ,  0.05101775,  0.05418682],\n",
        "       [        nan,  0.18394712,  0.05101775,  0.        ,  0.09693234],\n",
        "       [        nan,  0.07663174,  0.05418682,  0.09693234,  0.        ]])"
       ]
      }
     ],
     "prompt_number": 20
    },
    {
     "cell_type": "code",
     "collapsed": false,
     "input": [
      "ctot = np.sum(g1m, axis = 0)"
     ],
     "language": "python",
     "metadata": {},
     "outputs": [],
     "prompt_number": 21
    },
    {
     "cell_type": "code",
     "collapsed": false,
     "input": [
      "scaled = (g1m / ctot) * r"
     ],
     "language": "python",
     "metadata": {},
     "outputs": [],
     "prompt_number": 22
    },
    {
     "cell_type": "code",
     "collapsed": false,
     "input": [
      "scaled"
     ],
     "language": "python",
     "metadata": {},
     "outputs": [
      {
       "metadata": {},
       "output_type": "pyout",
       "prompt_number": 23,
       "text": [
        "matrix([[ 0.        ,  0.06227675,  0.15949782,  0.05103948,  0.0722491 ],\n",
        "        [ 0.06286681,  0.        ,  0.05639099,  0.14436145,  0.07663174],\n",
        "        [ 0.14057446,  0.0492341 ,  0.        ,  0.04003866,  0.05418682],\n",
        "        [ 0.04970058,  0.13925505,  0.04423674,  0.        ,  0.09693234],\n",
        "        [ 0.04685815,  0.0492341 ,  0.03987445,  0.0645604 ,  0.        ]])"
       ]
      }
     ],
     "prompt_number": 23
    },
    {
     "cell_type": "code",
     "collapsed": false,
     "input": [
      "np.sum(scaled, axis = 0)"
     ],
     "language": "python",
     "metadata": {},
     "outputs": [
      {
       "metadata": {},
       "output_type": "pyout",
       "prompt_number": 24,
       "text": [
        "matrix([[ 0.3,  0.3,  0.3,  0.3,  0.3]])"
       ]
      }
     ],
     "prompt_number": 24
    },
    {
     "cell_type": "code",
     "collapsed": false,
     "input": [
      "diag = np.eye(np.shape(g1m)[0]) * (1-r)"
     ],
     "language": "python",
     "metadata": {},
     "outputs": [],
     "prompt_number": 25
    },
    {
     "cell_type": "code",
     "collapsed": false,
     "input": [
      "diag"
     ],
     "language": "python",
     "metadata": {},
     "outputs": [
      {
       "metadata": {},
       "output_type": "pyout",
       "prompt_number": 26,
       "text": [
        "array([[ 0.7,  0. ,  0. ,  0. ,  0. ],\n",
        "       [ 0. ,  0.7,  0. ,  0. ,  0. ],\n",
        "       [ 0. ,  0. ,  0.7,  0. ,  0. ],\n",
        "       [ 0. ,  0. ,  0. ,  0.7,  0. ],\n",
        "       [ 0. ,  0. ,  0. ,  0. ,  0.7]])"
       ]
      }
     ],
     "prompt_number": 26
    },
    {
     "cell_type": "code",
     "collapsed": false,
     "input": [
      "scaled + diag"
     ],
     "language": "python",
     "metadata": {},
     "outputs": [
      {
       "metadata": {},
       "output_type": "pyout",
       "prompt_number": 27,
       "text": [
        "matrix([[ 0.7       ,  0.06227675,  0.15949782,  0.05103948,  0.0722491 ],\n",
        "        [ 0.06286681,  0.7       ,  0.05639099,  0.14436145,  0.07663174],\n",
        "        [ 0.14057446,  0.0492341 ,  0.7       ,  0.04003866,  0.05418682],\n",
        "        [ 0.04970058,  0.13925505,  0.04423674,  0.7       ,  0.09693234],\n",
        "        [ 0.04685815,  0.0492341 ,  0.03987445,  0.0645604 ,  0.7       ]])"
       ]
      }
     ],
     "prompt_number": 27
    },
    {
     "cell_type": "code",
     "collapsed": false,
     "input": [
      "final = scaled + diag"
     ],
     "language": "python",
     "metadata": {},
     "outputs": [],
     "prompt_number": 28
    },
    {
     "cell_type": "code",
     "collapsed": false,
     "input": [
      "final"
     ],
     "language": "python",
     "metadata": {},
     "outputs": [
      {
       "metadata": {},
       "output_type": "pyout",
       "prompt_number": 29,
       "text": [
        "matrix([[ 0.7       ,  0.06227675,  0.15949782,  0.05103948,  0.0722491 ],\n",
        "        [ 0.06286681,  0.7       ,  0.05639099,  0.14436145,  0.07663174],\n",
        "        [ 0.14057446,  0.0492341 ,  0.7       ,  0.04003866,  0.05418682],\n",
        "        [ 0.04970058,  0.13925505,  0.04423674,  0.7       ,  0.09693234],\n",
        "        [ 0.04685815,  0.0492341 ,  0.03987445,  0.0645604 ,  0.7       ]])"
       ]
      }
     ],
     "prompt_number": 29
    },
    {
     "cell_type": "code",
     "collapsed": false,
     "input": [
      "np.sum(final, axis=0)"
     ],
     "language": "python",
     "metadata": {},
     "outputs": [
      {
       "metadata": {},
       "output_type": "pyout",
       "prompt_number": 30,
       "text": [
        "matrix([[ 1.,  1.,  1.,  1.,  1.]])"
       ]
      }
     ],
     "prompt_number": 30
    },
    {
     "cell_type": "code",
     "collapsed": false,
     "input": [],
     "language": "python",
     "metadata": {},
     "outputs": []
    }
   ],
   "metadata": {}
  }
 ]
}