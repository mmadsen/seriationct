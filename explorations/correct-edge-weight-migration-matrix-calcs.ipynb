{
 "metadata": {
  "name": "",
  "signature": "sha256:00134f3aea8ffcb308fd87be769b61f7bd999b594355a6e37c84466c95407aff"
 },
 "nbformat": 3,
 "nbformat_minor": 0,
 "worksheets": [
  {
   "cells": [
    {
     "cell_type": "code",
     "collapsed": false,
     "input": [
      "import networkx as nx\n",
      "import numpy as np"
     ],
     "language": "python",
     "metadata": {},
     "outputs": [
      {
       "output_type": "stream",
       "stream": "stdout",
       "text": [
        "Couldn't import dot_parser, loading of dot files will not be possible.\n"
       ]
      }
     ],
     "prompt_number": 1
    },
    {
     "cell_type": "code",
     "collapsed": false,
     "input": [
      "g1 = nx.read_gml(\"/Users/mark/seriationct/testdata/test6x6-0.75-griddistance/test6x6-0.75-griddistance-4.gml\")"
     ],
     "language": "python",
     "metadata": {},
     "outputs": [],
     "prompt_number": 2
    },
    {
     "cell_type": "code",
     "collapsed": false,
     "input": [
      "g1m = nx.to_numpy_matrix(g1)"
     ],
     "language": "python",
     "metadata": {},
     "outputs": [],
     "prompt_number": 3
    },
    {
     "cell_type": "code",
     "collapsed": false,
     "input": [
      "g1m"
     ],
     "language": "python",
     "metadata": {},
     "outputs": [
      {
       "metadata": {},
       "output_type": "pyout",
       "prompt_number": 4,
       "text": [
        "matrix([[ 0.        ,  0.4472136 ,  1.        ,  0.35355339,  0.33333333],\n",
        "        [ 0.4472136 ,  0.        ,  0.35355339,  1.        ,  0.35355339],\n",
        "        [ 1.        ,  0.35355339,  0.        ,  0.2773501 ,  0.25      ],\n",
        "        [ 0.35355339,  1.        ,  0.2773501 ,  0.        ,  0.4472136 ],\n",
        "        [ 0.33333333,  0.35355339,  0.25      ,  0.4472136 ,  0.        ]])"
       ]
      }
     ],
     "prompt_number": 4
    },
    {
     "cell_type": "code",
     "collapsed": false,
     "input": [
      "np.triu(g1m)"
     ],
     "language": "python",
     "metadata": {},
     "outputs": [
      {
       "metadata": {},
       "output_type": "pyout",
       "prompt_number": 5,
       "text": [
        "array([[ 0.        ,  0.4472136 ,  1.        ,  0.35355339,  0.33333333],\n",
        "       [ 0.        ,  0.        ,  0.35355339,  1.        ,  0.35355339],\n",
        "       [ 0.        ,  0.        ,  0.        ,  0.2773501 ,  0.25      ],\n",
        "       [ 0.        ,  0.        ,  0.        ,  0.        ,  0.4472136 ],\n",
        "       [ 0.        ,  0.        ,  0.        ,  0.        ,  0.        ]])"
       ]
      }
     ],
     "prompt_number": 5
    },
    {
     "cell_type": "code",
     "collapsed": false,
     "input": [
      "np.sum(np.triu(g1m))"
     ],
     "language": "python",
     "metadata": {},
     "outputs": [
      {
       "metadata": {},
       "output_type": "pyout",
       "prompt_number": 6,
       "text": [
        "4.8157707942250001"
       ]
      }
     ],
     "prompt_number": 6
    },
    {
     "cell_type": "code",
     "collapsed": false,
     "input": [
      "np.sum(g1m)"
     ],
     "language": "python",
     "metadata": {},
     "outputs": [
      {
       "metadata": {},
       "output_type": "pyout",
       "prompt_number": 42,
       "text": [
        "9.6315415884500002"
       ]
      }
     ],
     "prompt_number": 42
    },
    {
     "cell_type": "code",
     "collapsed": false,
     "input": [
      "gt = np.triu(g1m)"
     ],
     "language": "python",
     "metadata": {},
     "outputs": [],
     "prompt_number": 8
    },
    {
     "cell_type": "code",
     "collapsed": false,
     "input": [
      "gt"
     ],
     "language": "python",
     "metadata": {},
     "outputs": [
      {
       "metadata": {},
       "output_type": "pyout",
       "prompt_number": 9,
       "text": [
        "array([[ 0.        ,  0.4472136 ,  1.        ,  0.35355339,  0.33333333],\n",
        "       [ 0.        ,  0.        ,  0.35355339,  1.        ,  0.35355339],\n",
        "       [ 0.        ,  0.        ,  0.        ,  0.2773501 ,  0.25      ],\n",
        "       [ 0.        ,  0.        ,  0.        ,  0.        ,  0.4472136 ],\n",
        "       [ 0.        ,  0.        ,  0.        ,  0.        ,  0.        ]])"
       ]
      }
     ],
     "prompt_number": 9
    },
    {
     "cell_type": "code",
     "collapsed": false,
     "input": [
      "np.sum(gt)"
     ],
     "language": "python",
     "metadata": {},
     "outputs": [
      {
       "metadata": {},
       "output_type": "pyout",
       "prompt_number": 41,
       "text": [
        "4.8157707942250001"
       ]
      }
     ],
     "prompt_number": 41
    },
    {
     "cell_type": "code",
     "collapsed": false,
     "input": [
      "r = 0.3"
     ],
     "language": "python",
     "metadata": {},
     "outputs": [],
     "prompt_number": 11
    },
    {
     "cell_type": "code",
     "collapsed": false,
     "input": [
      "gt * 1/r"
     ],
     "language": "python",
     "metadata": {},
     "outputs": [
      {
       "metadata": {},
       "output_type": "pyout",
       "prompt_number": 12,
       "text": [
        "array([[ 0.        ,  1.49071199,  3.33333333,  1.1785113 ,  1.11111111],\n",
        "       [ 0.        ,  0.        ,  1.1785113 ,  3.33333333,  1.1785113 ],\n",
        "       [ 0.        ,  0.        ,  0.        ,  0.92450033,  0.83333333],\n",
        "       [ 0.        ,  0.        ,  0.        ,  0.        ,  1.49071199],\n",
        "       [ 0.        ,  0.        ,  0.        ,  0.        ,  0.        ]])"
       ]
      }
     ],
     "prompt_number": 12
    },
    {
     "cell_type": "code",
     "collapsed": false,
     "input": [
      "rtot = np.sum(gt, axis = 1)"
     ],
     "language": "python",
     "metadata": {},
     "outputs": [],
     "prompt_number": 34
    },
    {
     "cell_type": "code",
     "collapsed": false,
     "input": [
      "rtot"
     ],
     "language": "python",
     "metadata": {},
     "outputs": [
      {
       "metadata": {},
       "output_type": "pyout",
       "prompt_number": 40,
       "text": [
        "array([ 2.13410032,  1.70710678,  0.5273501 ,  0.4472136 ,  0.        ])"
       ]
      }
     ],
     "prompt_number": 40
    },
    {
     "cell_type": "code",
     "collapsed": false,
     "input": [
      "gt / ctot"
     ],
     "language": "python",
     "metadata": {},
     "outputs": [
      {
       "metadata": {},
       "output_type": "pyout",
       "prompt_number": 15,
       "text": [
        "array([[        nan,  1.        ,  0.73879613,  0.21678376,  0.24083033],\n",
        "       [        nan,  0.        ,  0.26120387,  0.61315707,  0.25543914],\n",
        "       [        nan,  0.        ,  0.        ,  0.17005917,  0.18062275],\n",
        "       [        nan,  0.        ,  0.        ,  0.        ,  0.32310779],\n",
        "       [        nan,  0.        ,  0.        ,  0.        ,  0.        ]])"
       ]
      }
     ],
     "prompt_number": 15
    },
    {
     "cell_type": "code",
     "collapsed": false,
     "input": [
      "int = (gt / rtot) * r"
     ],
     "language": "python",
     "metadata": {},
     "outputs": [],
     "prompt_number": 36
    },
    {
     "cell_type": "code",
     "collapsed": false,
     "input": [
      "int"
     ],
     "language": "python",
     "metadata": {},
     "outputs": [
      {
       "metadata": {},
       "output_type": "pyout",
       "prompt_number": 37,
       "text": [
        "array([[ 0.        ,  0.0785915 ,  0.56888204,  0.23717082,         inf],\n",
        "       [ 0.        ,  0.        ,  0.20113017,  0.67082039,         inf],\n",
        "       [ 0.        ,  0.        ,  0.        ,  0.1860521 ,         inf],\n",
        "       [ 0.        ,  0.        ,  0.        ,  0.        ,         inf],\n",
        "       [ 0.        ,  0.        ,  0.        ,  0.        ,         nan]])"
       ]
      }
     ],
     "prompt_number": 37
    },
    {
     "cell_type": "code",
     "collapsed": false,
     "input": [
      "int.T"
     ],
     "language": "python",
     "metadata": {},
     "outputs": [
      {
       "metadata": {},
       "output_type": "pyout",
       "prompt_number": 19,
       "text": [
        "array([[        nan,         nan,         nan,         nan,         nan],\n",
        "       [ 0.3       ,  0.        ,  0.        ,  0.        ,  0.        ],\n",
        "       [ 0.22163884,  0.07836116,  0.        ,  0.        ,  0.        ],\n",
        "       [ 0.06503513,  0.18394712,  0.05101775,  0.        ,  0.        ],\n",
        "       [ 0.0722491 ,  0.07663174,  0.05418682,  0.09693234,  0.        ]])"
       ]
      }
     ],
     "prompt_number": 19
    },
    {
     "cell_type": "code",
     "collapsed": false,
     "input": [
      "int + int.T"
     ],
     "language": "python",
     "metadata": {},
     "outputs": [
      {
       "metadata": {},
       "output_type": "pyout",
       "prompt_number": 20,
       "text": [
        "array([[        nan,         nan,         nan,         nan,         nan],\n",
        "       [        nan,  0.        ,  0.07836116,  0.18394712,  0.07663174],\n",
        "       [        nan,  0.07836116,  0.        ,  0.05101775,  0.05418682],\n",
        "       [        nan,  0.18394712,  0.05101775,  0.        ,  0.09693234],\n",
        "       [        nan,  0.07663174,  0.05418682,  0.09693234,  0.        ]])"
       ]
      }
     ],
     "prompt_number": 20
    },
    {
     "cell_type": "code",
     "collapsed": false,
     "input": [
      "ctot = np.sum(g1m, axis = 0)"
     ],
     "language": "python",
     "metadata": {},
     "outputs": [],
     "prompt_number": 21
    },
    {
     "cell_type": "code",
     "collapsed": false,
     "input": [
      "scaled = (g1m / rtot) * r"
     ],
     "language": "python",
     "metadata": {},
     "outputs": [],
     "prompt_number": 38
    },
    {
     "cell_type": "code",
     "collapsed": false,
     "input": [
      "scaled"
     ],
     "language": "python",
     "metadata": {},
     "outputs": [
      {
       "metadata": {},
       "output_type": "pyout",
       "prompt_number": 39,
       "text": [
        "matrix([[ 0.        ,  0.0785915 ,  0.56888204,  0.23717082,         inf],\n",
        "        [ 0.06286681,  0.        ,  0.20113017,  0.67082039,         inf],\n",
        "        [ 0.14057446,  0.06213203,  0.        ,  0.1860521 ,         inf],\n",
        "        [ 0.04970058,  0.17573593,  0.15777949,  0.        ,         inf],\n",
        "        [ 0.04685815,  0.06213203,  0.14222051,  0.3       ,         nan]])"
       ]
      }
     ],
     "prompt_number": 39
    },
    {
     "cell_type": "code",
     "collapsed": false,
     "input": [
      "np.sum(scaled, axis = 0)"
     ],
     "language": "python",
     "metadata": {},
     "outputs": [
      {
       "metadata": {},
       "output_type": "pyout",
       "prompt_number": 24,
       "text": [
        "matrix([[ 0.3,  0.3,  0.3,  0.3,  0.3]])"
       ]
      }
     ],
     "prompt_number": 24
    },
    {
     "cell_type": "code",
     "collapsed": false,
     "input": [
      "diag = np.eye(np.shape(g1m)[0]) * (1-r)"
     ],
     "language": "python",
     "metadata": {},
     "outputs": [],
     "prompt_number": 25
    },
    {
     "cell_type": "code",
     "collapsed": false,
     "input": [
      "diag"
     ],
     "language": "python",
     "metadata": {},
     "outputs": [
      {
       "metadata": {},
       "output_type": "pyout",
       "prompt_number": 26,
       "text": [
        "array([[ 0.7,  0. ,  0. ,  0. ,  0. ],\n",
        "       [ 0. ,  0.7,  0. ,  0. ,  0. ],\n",
        "       [ 0. ,  0. ,  0.7,  0. ,  0. ],\n",
        "       [ 0. ,  0. ,  0. ,  0.7,  0. ],\n",
        "       [ 0. ,  0. ,  0. ,  0. ,  0.7]])"
       ]
      }
     ],
     "prompt_number": 26
    },
    {
     "cell_type": "code",
     "collapsed": false,
     "input": [
      "scaled + diag"
     ],
     "language": "python",
     "metadata": {},
     "outputs": [
      {
       "metadata": {},
       "output_type": "pyout",
       "prompt_number": 27,
       "text": [
        "matrix([[ 0.7       ,  0.06227675,  0.15949782,  0.05103948,  0.0722491 ],\n",
        "        [ 0.06286681,  0.7       ,  0.05639099,  0.14436145,  0.07663174],\n",
        "        [ 0.14057446,  0.0492341 ,  0.7       ,  0.04003866,  0.05418682],\n",
        "        [ 0.04970058,  0.13925505,  0.04423674,  0.7       ,  0.09693234],\n",
        "        [ 0.04685815,  0.0492341 ,  0.03987445,  0.0645604 ,  0.7       ]])"
       ]
      }
     ],
     "prompt_number": 27
    },
    {
     "cell_type": "code",
     "collapsed": false,
     "input": [
      "final = scaled + diag"
     ],
     "language": "python",
     "metadata": {},
     "outputs": [],
     "prompt_number": 28
    },
    {
     "cell_type": "code",
     "collapsed": false,
     "input": [
      "final"
     ],
     "language": "python",
     "metadata": {},
     "outputs": [
      {
       "metadata": {},
       "output_type": "pyout",
       "prompt_number": 29,
       "text": [
        "matrix([[ 0.7       ,  0.06227675,  0.15949782,  0.05103948,  0.0722491 ],\n",
        "        [ 0.06286681,  0.7       ,  0.05639099,  0.14436145,  0.07663174],\n",
        "        [ 0.14057446,  0.0492341 ,  0.7       ,  0.04003866,  0.05418682],\n",
        "        [ 0.04970058,  0.13925505,  0.04423674,  0.7       ,  0.09693234],\n",
        "        [ 0.04685815,  0.0492341 ,  0.03987445,  0.0645604 ,  0.7       ]])"
       ]
      }
     ],
     "prompt_number": 29
    },
    {
     "cell_type": "code",
     "collapsed": false,
     "input": [
      "np.sum(final, axis=0)"
     ],
     "language": "python",
     "metadata": {},
     "outputs": [
      {
       "metadata": {},
       "output_type": "pyout",
       "prompt_number": 30,
       "text": [
        "matrix([[ 1.,  1.,  1.,  1.,  1.]])"
       ]
      }
     ],
     "prompt_number": 30
    },
    {
     "cell_type": "code",
     "collapsed": false,
     "input": [
      "np.sum(final, axis = 1)"
     ],
     "language": "python",
     "metadata": {},
     "outputs": [
      {
       "metadata": {},
       "output_type": "pyout",
       "prompt_number": 31,
       "text": [
        "matrix([[ 1.04506315],\n",
        "        [ 1.040251  ],\n",
        "        [ 0.98403404],\n",
        "        [ 1.0301247 ],\n",
        "        [ 0.90052711]])"
       ]
      }
     ],
     "prompt_number": 31
    },
    {
     "cell_type": "code",
     "collapsed": false,
     "input": [
      "np.sum(g1m)"
     ],
     "language": "python",
     "metadata": {},
     "outputs": [
      {
       "metadata": {},
       "output_type": "pyout",
       "prompt_number": 32,
       "text": [
        "9.6315415884500002"
       ]
      }
     ],
     "prompt_number": 32
    },
    {
     "cell_type": "code",
     "collapsed": false,
     "input": [
      "total = np.sum(g1m)"
     ],
     "language": "python",
     "metadata": {},
     "outputs": [],
     "prompt_number": 43
    },
    {
     "cell_type": "code",
     "collapsed": false,
     "input": [
      "g1m / total"
     ],
     "language": "python",
     "metadata": {},
     "outputs": [
      {
       "metadata": {},
       "output_type": "pyout",
       "prompt_number": 44,
       "text": [
        "matrix([[ 0.        ,  0.04643219,  0.10382554,  0.03670787,  0.03460851],\n",
        "        [ 0.04643219,  0.        ,  0.03670787,  0.10382554,  0.03670787],\n",
        "        [ 0.10382554,  0.03670787,  0.        ,  0.02879602,  0.02595638],\n",
        "        [ 0.03670787,  0.10382554,  0.02879602,  0.        ,  0.04643219],\n",
        "        [ 0.03460851,  0.03670787,  0.02595638,  0.04643219,  0.        ]])"
       ]
      }
     ],
     "prompt_number": 44
    },
    {
     "cell_type": "code",
     "collapsed": false,
     "input": [
      "f = (g1m / total) "
     ],
     "language": "python",
     "metadata": {},
     "outputs": [],
     "prompt_number": 55
    },
    {
     "cell_type": "code",
     "collapsed": false,
     "input": [
      "np.sum(f, axis = 0)"
     ],
     "language": "python",
     "metadata": {},
     "outputs": [
      {
       "metadata": {},
       "output_type": "pyout",
       "prompt_number": 56,
       "text": [
        "matrix([[ 0.22157412,  0.22367347,  0.19528582,  0.21576163,  0.14370496]])"
       ]
      }
     ],
     "prompt_number": 56
    },
    {
     "cell_type": "code",
     "collapsed": false,
     "input": [
      "f"
     ],
     "language": "python",
     "metadata": {},
     "outputs": [
      {
       "metadata": {},
       "output_type": "pyout",
       "prompt_number": 50,
       "text": [
        "matrix([[ 0.        ,  0.01392966,  0.03114766,  0.01101236,  0.01038255],\n",
        "        [ 0.01392966,  0.        ,  0.01101236,  0.03114766,  0.01101236],\n",
        "        [ 0.03114766,  0.01101236,  0.        ,  0.00863881,  0.00778692],\n",
        "        [ 0.01101236,  0.03114766,  0.00863881,  0.        ,  0.01392966],\n",
        "        [ 0.01038255,  0.01101236,  0.00778692,  0.01392966,  0.        ]])"
       ]
      }
     ],
     "prompt_number": 50
    },
    {
     "cell_type": "code",
     "collapsed": false,
     "input": [
      "f + diag"
     ],
     "language": "python",
     "metadata": {},
     "outputs": [
      {
       "metadata": {},
       "output_type": "pyout",
       "prompt_number": 57,
       "text": [
        "matrix([[ 0.7       ,  0.04643219,  0.10382554,  0.03670787,  0.03460851],\n",
        "        [ 0.04643219,  0.7       ,  0.03670787,  0.10382554,  0.03670787],\n",
        "        [ 0.10382554,  0.03670787,  0.7       ,  0.02879602,  0.02595638],\n",
        "        [ 0.03670787,  0.10382554,  0.02879602,  0.7       ,  0.04643219],\n",
        "        [ 0.03460851,  0.03670787,  0.02595638,  0.04643219,  0.7       ]])"
       ]
      }
     ],
     "prompt_number": 57
    },
    {
     "cell_type": "code",
     "collapsed": false,
     "input": [
      "f2 = f + diag"
     ],
     "language": "python",
     "metadata": {},
     "outputs": [],
     "prompt_number": 58
    },
    {
     "cell_type": "code",
     "collapsed": false,
     "input": [
      "np.sum(f2, axis = 0)"
     ],
     "language": "python",
     "metadata": {},
     "outputs": [
      {
       "metadata": {},
       "output_type": "pyout",
       "prompt_number": 59,
       "text": [
        "matrix([[ 0.92157412,  0.92367347,  0.89528582,  0.91576163,  0.84370496]])"
       ]
      }
     ],
     "prompt_number": 59
    },
    {
     "cell_type": "code",
     "collapsed": false,
     "input": [
      "g1m"
     ],
     "language": "python",
     "metadata": {},
     "outputs": [
      {
       "metadata": {},
       "output_type": "pyout",
       "prompt_number": 60,
       "text": [
        "matrix([[ 0.        ,  0.4472136 ,  1.        ,  0.35355339,  0.33333333],\n",
        "        [ 0.4472136 ,  0.        ,  0.35355339,  1.        ,  0.35355339],\n",
        "        [ 1.        ,  0.35355339,  0.        ,  0.2773501 ,  0.25      ],\n",
        "        [ 0.35355339,  1.        ,  0.2773501 ,  0.        ,  0.4472136 ],\n",
        "        [ 0.33333333,  0.35355339,  0.25      ,  0.4472136 ,  0.        ]])"
       ]
      }
     ],
     "prompt_number": 60
    },
    {
     "cell_type": "code",
     "collapsed": false,
     "input": [
      "rtot = np.sum(g1m, axis = 1)"
     ],
     "language": "python",
     "metadata": {},
     "outputs": [],
     "prompt_number": 61
    },
    {
     "cell_type": "code",
     "collapsed": false,
     "input": [
      "rtot\n"
     ],
     "language": "python",
     "metadata": {},
     "outputs": [
      {
       "metadata": {},
       "output_type": "pyout",
       "prompt_number": 62,
       "text": [
        "matrix([[ 2.13410032],\n",
        "        [ 2.15432038],\n",
        "        [ 1.88090349],\n",
        "        [ 2.07811708],\n",
        "        [ 1.38410032]])"
       ]
      }
     ],
     "prompt_number": 62
    },
    {
     "cell_type": "code",
     "collapsed": false,
     "input": [
      "g1m / rtot"
     ],
     "language": "python",
     "metadata": {},
     "outputs": [
      {
       "metadata": {},
       "output_type": "pyout",
       "prompt_number": 63,
       "text": [
        "matrix([[ 0.        ,  0.20955603,  0.46858153,  0.16566859,  0.15619384],\n",
        "        [ 0.20758918,  0.        ,  0.16411365,  0.46418351,  0.16411365],\n",
        "        [ 0.53165939,  0.18796998,  0.        ,  0.14745578,  0.13291485],\n",
        "        [ 0.1701316 ,  0.48120484,  0.13346221,  0.        ,  0.21520135],\n",
        "        [ 0.24083033,  0.25543914,  0.18062275,  0.32310779,  0.        ]])"
       ]
      }
     ],
     "prompt_number": 63
    },
    {
     "cell_type": "code",
     "collapsed": false,
     "input": [
      "f = (g1m / rtot) * r"
     ],
     "language": "python",
     "metadata": {},
     "outputs": [],
     "prompt_number": 64
    },
    {
     "cell_type": "code",
     "collapsed": false,
     "input": [
      "f"
     ],
     "language": "python",
     "metadata": {},
     "outputs": [
      {
       "metadata": {},
       "output_type": "pyout",
       "prompt_number": 65,
       "text": [
        "matrix([[ 0.        ,  0.06286681,  0.14057446,  0.04970058,  0.04685815],\n",
        "        [ 0.06227675,  0.        ,  0.0492341 ,  0.13925505,  0.0492341 ],\n",
        "        [ 0.15949782,  0.05639099,  0.        ,  0.04423674,  0.03987445],\n",
        "        [ 0.05103948,  0.14436145,  0.04003866,  0.        ,  0.0645604 ],\n",
        "        [ 0.0722491 ,  0.07663174,  0.05418682,  0.09693234,  0.        ]])"
       ]
      }
     ],
     "prompt_number": 65
    },
    {
     "cell_type": "code",
     "collapsed": false,
     "input": [
      "np.sum(f, axis = 1)"
     ],
     "language": "python",
     "metadata": {},
     "outputs": [
      {
       "metadata": {},
       "output_type": "pyout",
       "prompt_number": 66,
       "text": [
        "matrix([[ 0.3],\n",
        "        [ 0.3],\n",
        "        [ 0.3],\n",
        "        [ 0.3],\n",
        "        [ 0.3]])"
       ]
      }
     ],
     "prompt_number": 66
    },
    {
     "cell_type": "code",
     "collapsed": false,
     "input": [
      "f + diag"
     ],
     "language": "python",
     "metadata": {},
     "outputs": [
      {
       "metadata": {},
       "output_type": "pyout",
       "prompt_number": 67,
       "text": [
        "matrix([[ 0.7       ,  0.06286681,  0.14057446,  0.04970058,  0.04685815],\n",
        "        [ 0.06227675,  0.7       ,  0.0492341 ,  0.13925505,  0.0492341 ],\n",
        "        [ 0.15949782,  0.05639099,  0.7       ,  0.04423674,  0.03987445],\n",
        "        [ 0.05103948,  0.14436145,  0.04003866,  0.7       ,  0.0645604 ],\n",
        "        [ 0.0722491 ,  0.07663174,  0.05418682,  0.09693234,  0.7       ]])"
       ]
      }
     ],
     "prompt_number": 67
    },
    {
     "cell_type": "code",
     "collapsed": false,
     "input": [
      "np.sum(f + diag, axis = 1)"
     ],
     "language": "python",
     "metadata": {},
     "outputs": [
      {
       "metadata": {},
       "output_type": "pyout",
       "prompt_number": 68,
       "text": [
        "matrix([[ 1.],\n",
        "        [ 1.],\n",
        "        [ 1.],\n",
        "        [ 1.],\n",
        "        [ 1.]])"
       ]
      }
     ],
     "prompt_number": 68
    },
    {
     "cell_type": "code",
     "collapsed": false,
     "input": [
      "g_mat = g1m"
     ],
     "language": "python",
     "metadata": {},
     "outputs": [],
     "prompt_number": 69
    },
    {
     "cell_type": "code",
     "collapsed": false,
     "input": [
      "rtot = np.sum(g_mat, axis = 1)\n",
      "scaled = (g_mat / rtot) * r\n",
      "diag = np.eye(np.shape(g_mat)[0]) * (1.0 - r)\n",
      "g_mat_scaled = diag + scaled"
     ],
     "language": "python",
     "metadata": {},
     "outputs": [],
     "prompt_number": 72
    },
    {
     "cell_type": "code",
     "collapsed": false,
     "input": [
      "g_mat_scaled"
     ],
     "language": "python",
     "metadata": {},
     "outputs": [
      {
       "metadata": {},
       "output_type": "pyout",
       "prompt_number": 73,
       "text": [
        "matrix([[ 0.7       ,  0.06286681,  0.14057446,  0.04970058,  0.04685815],\n",
        "        [ 0.06227675,  0.7       ,  0.0492341 ,  0.13925505,  0.0492341 ],\n",
        "        [ 0.15949782,  0.05639099,  0.7       ,  0.04423674,  0.03987445],\n",
        "        [ 0.05103948,  0.14436145,  0.04003866,  0.7       ,  0.0645604 ],\n",
        "        [ 0.0722491 ,  0.07663174,  0.05418682,  0.09693234,  0.7       ]])"
       ]
      }
     ],
     "prompt_number": 73
    },
    {
     "cell_type": "code",
     "collapsed": false,
     "input": [
      "np.sum(g_mat_scaled, axis=0)"
     ],
     "language": "python",
     "metadata": {},
     "outputs": [
      {
       "metadata": {},
       "output_type": "pyout",
       "prompt_number": 74,
       "text": [
        "matrix([[ 1.04506315,  1.040251  ,  0.98403404,  1.0301247 ,  0.90052711]])"
       ]
      }
     ],
     "prompt_number": 74
    },
    {
     "cell_type": "code",
     "collapsed": false,
     "input": [],
     "language": "python",
     "metadata": {},
     "outputs": []
    }
   ],
   "metadata": {}
  }
 ]
}