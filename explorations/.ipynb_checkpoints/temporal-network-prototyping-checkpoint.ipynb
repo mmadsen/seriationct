{
 "metadata": {
  "name": "",
  "signature": "sha256:297565d6274c4a51b8dd0ad0364c099a3958f58b747fa7769ae4e55ffa70823f"
 },
 "nbformat": 3,
 "nbformat_minor": 0,
 "worksheets": [
  {
   "cells": [
    {
     "cell_type": "code",
     "collapsed": false,
     "input": [
      "import numpy as np\n",
      "import networkx as nx\n",
      "import matplotlib.pyplot as plt\n",
      "import pprint as pp"
     ],
     "language": "python",
     "metadata": {},
     "outputs": [],
     "prompt_number": 18
    },
    {
     "cell_type": "code",
     "collapsed": false,
     "input": [
      "# start with C4, the complete graph on four vertices, with uniform weights\n",
      "t1 = np.array([[1,3,1,1],[3,1,1,1],[1,1,1,1],[1,1,1,1]])"
     ],
     "language": "python",
     "metadata": {},
     "outputs": [],
     "prompt_number": 2
    },
    {
     "cell_type": "code",
     "collapsed": false,
     "input": [
      "g = nx.to_networkx_graph(t1)\n",
      "print g"
     ],
     "language": "python",
     "metadata": {},
     "outputs": [
      {
       "output_type": "stream",
       "stream": "stdout",
       "text": [
        "\n"
       ]
      }
     ],
     "prompt_number": 16
    },
    {
     "cell_type": "code",
     "collapsed": false,
     "input": [
      "nx.draw(g)"
     ],
     "language": "python",
     "metadata": {},
     "outputs": [
      {
       "metadata": {},
       "output_type": "display_data",
       "png": "[encoded data removed]",
       "text": [
        "<matplotlib.figure.Figure at 0x1092dd090>"
       ]
      }
     ],
     "prompt_number": 4
    },
    {
     "cell_type": "code",
     "collapsed": false,
     "input": [
      "# step 1 - loss of two links\n",
      "t2 = np.array([[1,0,1,1],[0,1,1,1],[1,1,1,0],[1,1,0,1]])"
     ],
     "language": "python",
     "metadata": {},
     "outputs": [],
     "prompt_number": 5
    },
    {
     "cell_type": "code",
     "collapsed": false,
     "input": [
      "g2 = nx.to_networkx_graph(t2)"
     ],
     "language": "python",
     "metadata": {},
     "outputs": [],
     "prompt_number": 6
    },
    {
     "cell_type": "code",
     "collapsed": false,
     "input": [
      "nx.draw(g2)"
     ],
     "language": "python",
     "metadata": {},
     "outputs": [
      {
       "metadata": {},
       "output_type": "display_data",
       "png": "[encoded data removed]",
       "text": [
        "<matplotlib.figure.Figure at 0x1092f92d0>"
       ]
      }
     ],
     "prompt_number": 7
    },
    {
     "cell_type": "code",
     "collapsed": false,
     "input": [
      "t2 - t1"
     ],
     "language": "python",
     "metadata": {},
     "outputs": [
      {
       "metadata": {},
       "output_type": "pyout",
       "prompt_number": 8,
       "text": [
        "array([[ 0, -3,  0,  0],\n",
        "       [-3,  0,  0,  0],\n",
        "       [ 0,  0,  0, -1],\n",
        "       [ 0,  0, -1,  0]])"
       ]
      }
     ],
     "prompt_number": 8
    },
    {
     "cell_type": "code",
     "collapsed": false,
     "input": [
      "np.nonzero(np.triu(t2 - t1))"
     ],
     "language": "python",
     "metadata": {},
     "outputs": [
      {
       "metadata": {},
       "output_type": "pyout",
       "prompt_number": 9,
       "text": [
        "(array([0, 2]), array([1, 3]))"
       ]
      }
     ],
     "prompt_number": 9
    },
    {
     "cell_type": "code",
     "collapsed": false,
     "input": [
      "changed = t2 - t1\n"
     ],
     "language": "python",
     "metadata": {},
     "outputs": [],
     "prompt_number": 10
    },
    {
     "cell_type": "code",
     "collapsed": false,
     "input": [
      "changed_edges = np.nonzero(np.triu(changed))"
     ],
     "language": "python",
     "metadata": {},
     "outputs": [],
     "prompt_number": 11
    },
    {
     "cell_type": "code",
     "collapsed": false,
     "input": [
      "changed_edges[0]"
     ],
     "language": "python",
     "metadata": {},
     "outputs": [
      {
       "metadata": {},
       "output_type": "pyout",
       "prompt_number": 12,
       "text": [
        "array([0, 2])"
       ]
      }
     ],
     "prompt_number": 12
    },
    {
     "cell_type": "code",
     "collapsed": false,
     "input": [
      "for i,j in zip(changed_edges[0], changed_edges[1]):\n",
      "    weight_delta = changed[i,j]\n",
      "    removed = False if t1[i,j] + changed[i,j] else True\n",
      "    print \"changed edge at %s,%s - weight delta: %s remove? %s\" % (i,j, weight_delta, removed)\n",
      "    if removed:\n",
      "        g.remove_edge(i,j)\n",
      "    "
     ],
     "language": "python",
     "metadata": {},
     "outputs": [
      {
       "output_type": "stream",
       "stream": "stdout",
       "text": [
        "changed edge at 0,1 - weight delta: -3 remove? True\n",
        "changed edge at 2,3 - weight delta: -1 remove? True\n"
       ]
      }
     ],
     "prompt_number": 13
    },
    {
     "cell_type": "code",
     "collapsed": false,
     "input": [
      "nx.draw(g)"
     ],
     "language": "python",
     "metadata": {},
     "outputs": [
      {
       "metadata": {},
       "output_type": "display_data",
       "png": "[encoded data removed]",
       "text": [
        "<matplotlib.figure.Figure at 0x1092ddc10>"
       ]
      }
     ],
     "prompt_number": 14
    },
    {
     "cell_type": "code",
     "collapsed": false,
     "input": [
      "pp.pprint(vars(g))"
     ],
     "language": "python",
     "metadata": {},
     "outputs": [
      {
       "output_type": "stream",
       "stream": "stdout",
       "text": [
        "{'adj': {0: {0: {'weight': 1},\n",
        "             1: {'weight': 3},\n",
        "             2: {'weight': 1},\n",
        "             3: {'weight': 1}},\n",
        "         1: {0: {'weight': 3},\n",
        "             1: {'weight': 1},\n",
        "             2: {'weight': 1},\n",
        "             3: {'weight': 1}},\n",
        "         2: {0: {'weight': 1},\n",
        "             1: {'weight': 1},\n",
        "             2: {'weight': 1},\n",
        "             3: {'weight': 1}},\n",
        "         3: {0: {'weight': 1},\n",
        "             1: {'weight': 1},\n",
        "             2: {'weight': 1},\n",
        "             3: {'weight': 1}}},\n",
        " 'edge': {0: {0: {'weight': 1},\n",
        "              1: {'weight': 3},\n",
        "              2: {'weight': 1},\n",
        "              3: {'weight': 1}},\n",
        "          1: {0: {'weight': 3},\n",
        "              1: {'weight': 1},\n",
        "              2: {'weight': 1},\n",
        "              3: {'weight': 1}},\n",
        "          2: {0: {'weight': 1},\n",
        "              1: {'weight': 1},\n",
        "              2: {'weight': 1},\n",
        "              3: {'weight': 1}},\n",
        "          3: {0: {'weight': 1},\n",
        "              1: {'weight': 1},\n",
        "              2: {'weight': 1},\n",
        "              3: {'weight': 1}}},\n",
        " 'graph': {},\n",
        " 'node': {0: {}, 1: {}, 2: {}, 3: {}}}\n"
       ]
      }
     ],
     "prompt_number": 20
    },
    {
     "cell_type": "code",
     "collapsed": false,
     "input": [],
     "language": "python",
     "metadata": {},
     "outputs": []
    }
   ],
   "metadata": {}
  }
 ]
}